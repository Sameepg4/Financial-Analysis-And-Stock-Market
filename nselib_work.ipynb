{
  "nbformat": 4,
  "nbformat_minor": 0,
  "metadata": {
    "colab": {
      "provenance": []
    },
    "kernelspec": {
      "name": "python3",
      "display_name": "Python 3"
    },
    "language_info": {
      "name": "python"
    }
  },
  "cells": [
    {
      "cell_type": "code",
      "execution_count": null,
      "metadata": {
        "colab": {
          "base_uri": "https://localhost:8080/"
        },
        "id": "saxLDRz1rHpw",
        "outputId": "62535c6f-3453-4804-ba7c-2b9da8010fa4"
      },
      "outputs": [
        {
          "output_type": "stream",
          "name": "stdout",
          "text": [
            "Collecting nselib\n",
            "  Downloading nselib-1.0-py3-none-any.whl.metadata (4.3 kB)\n",
            "Requirement already satisfied: requests in /usr/local/lib/python3.10/dist-packages (from nselib) (2.31.0)\n",
            "Requirement already satisfied: pandas in /usr/local/lib/python3.10/dist-packages (from nselib) (2.1.4)\n",
            "Requirement already satisfied: scipy in /usr/local/lib/python3.10/dist-packages (from nselib) (1.13.1)\n",
            "Requirement already satisfied: numpy<2,>=1.22.4 in /usr/local/lib/python3.10/dist-packages (from pandas->nselib) (1.26.4)\n",
            "Requirement already satisfied: python-dateutil>=2.8.2 in /usr/local/lib/python3.10/dist-packages (from pandas->nselib) (2.8.2)\n",
            "Requirement already satisfied: pytz>=2020.1 in /usr/local/lib/python3.10/dist-packages (from pandas->nselib) (2024.1)\n",
            "Requirement already satisfied: tzdata>=2022.1 in /usr/local/lib/python3.10/dist-packages (from pandas->nselib) (2024.1)\n",
            "Requirement already satisfied: charset-normalizer<4,>=2 in /usr/local/lib/python3.10/dist-packages (from requests->nselib) (3.3.2)\n",
            "Requirement already satisfied: idna<4,>=2.5 in /usr/local/lib/python3.10/dist-packages (from requests->nselib) (3.7)\n",
            "Requirement already satisfied: urllib3<3,>=1.21.1 in /usr/local/lib/python3.10/dist-packages (from requests->nselib) (2.0.7)\n",
            "Requirement already satisfied: certifi>=2017.4.17 in /usr/local/lib/python3.10/dist-packages (from requests->nselib) (2024.7.4)\n",
            "Requirement already satisfied: six>=1.5 in /usr/local/lib/python3.10/dist-packages (from python-dateutil>=2.8.2->pandas->nselib) (1.16.0)\n",
            "Downloading nselib-1.0-py3-none-any.whl (18 kB)\n",
            "Installing collected packages: nselib\n",
            "Successfully installed nselib-1.0\n"
          ]
        }
      ],
      "source": [
        "pip install nselib"
      ]
    },
    {
      "cell_type": "code",
      "source": [
        "from nselib import derivatives"
      ],
      "metadata": {
        "id": "RgGrWMoyrUfd"
      },
      "execution_count": null,
      "outputs": []
    },
    {
      "cell_type": "code",
      "source": [
        "derivatives.expiry_dates_future()"
      ],
      "metadata": {
        "colab": {
          "base_uri": "https://localhost:8080/"
        },
        "id": "1RDNR0o1rbG3",
        "outputId": "fdbeaa23-1711-4451-ca36-98d42aa1a76d"
      },
      "execution_count": null,
      "outputs": [
        {
          "output_type": "execute_result",
          "data": {
            "text/plain": [
              "['29-Aug-2024', '26-Sep-2024', '31-Oct-2024']"
            ]
          },
          "metadata": {},
          "execution_count": 8
        }
      ]
    },
    {
      "cell_type": "code",
      "source": [
        "derivatives.expiry_dates_option_index()"
      ],
      "metadata": {
        "colab": {
          "base_uri": "https://localhost:8080/"
        },
        "id": "FBt24GrHr7Z1",
        "outputId": "5448fff5-4de6-4b46-8132-0aec0d77b85e"
      },
      "execution_count": null,
      "outputs": [
        {
          "output_type": "execute_result",
          "data": {
            "text/plain": [
              "{'NIFTY': ['01-Aug-2024',\n",
              "  '08-Aug-2024',\n",
              "  '14-Aug-2024',\n",
              "  '22-Aug-2024',\n",
              "  '29-Aug-2024',\n",
              "  '26-Sep-2024',\n",
              "  '31-Oct-2024',\n",
              "  '26-Dec-2024',\n",
              "  '27-Mar-2025',\n",
              "  '26-Jun-2025',\n",
              "  '24-Dec-2025',\n",
              "  '25-Jun-2026',\n",
              "  '31-Dec-2026',\n",
              "  '24-Jun-2027',\n",
              "  '30-Dec-2027',\n",
              "  '29-Jun-2028',\n",
              "  '28-Dec-2028',\n",
              "  '28-Jun-2029'],\n",
              " 'FINNIFTY': ['30-Jul-2024',\n",
              "  '06-Aug-2024',\n",
              "  '13-Aug-2024',\n",
              "  '20-Aug-2024',\n",
              "  '27-Aug-2024',\n",
              "  '03-Sep-2024',\n",
              "  '24-Sep-2024'],\n",
              " 'BANKNIFTY': ['31-Jul-2024',\n",
              "  '07-Aug-2024',\n",
              "  '14-Aug-2024',\n",
              "  '21-Aug-2024',\n",
              "  '28-Aug-2024',\n",
              "  '04-Sep-2024',\n",
              "  '25-Sep-2024',\n",
              "  '24-Dec-2024',\n",
              "  '26-Mar-2025',\n",
              "  '25-Jun-2025']}"
            ]
          },
          "metadata": {},
          "execution_count": 9
        }
      ]
    }
  ]
}