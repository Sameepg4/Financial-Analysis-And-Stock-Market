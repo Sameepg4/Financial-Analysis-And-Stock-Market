{
  "nbformat": 4,
  "nbformat_minor": 0,
  "metadata": {
    "colab": {
      "provenance": []
    },
    "kernelspec": {
      "name": "python3",
      "display_name": "Python 3"
    },
    "language_info": {
      "name": "python"
    }
  },
  "cells": [
    {
      "cell_type": "code",
      "execution_count": null,
      "metadata": {
        "id": "iuMoXlAolvTw"
      },
      "outputs": [],
      "source": [
        "fo_stocks = [\n",
        "    # Adani Group\n",
        "    \"ADANIENT.NS\", \"ADANIPORTS.NS\", \"ADANIGREEN.NS\", \"ADANIENSOL.NS\", \"ATGL.NS\", \"ADANIPOWER.NS\",\n",
        "\n",
        "    # Banking & Finance\n",
        "    \"AUBANK.NS\", \"AXISBANK.NS\", \"BANDHANBNK.NS\", \"BANKBARODA.NS\", \"BANKINDIA.NS\",\n",
        "    \"CANBK.NS\", \"CHOLAFIN.NS\", \"FEDERALBNK.NS\", \"HDFCBANK.NS\", \"ICICIBANK.NS\",\n",
        "    \"IDFCFIRSTB.NS\", \"INDIANB.NS\", \"INDUSINDBK.NS\", \"KOTAKBANK.NS\", \"L&TFH.NS\",\n",
        "    \"PERSISTENT.NS\", \"PNB.NS\", \"POONAWALLA.NS\", \"SBIN.NS\", \"SHRIRAMFIN.NS\",\n",
        "    \"UBL.NS\", \"UNIONBANK.NS\", \"YESBANK.NS\",\n",
        "\n",
        "    # Consumer Goods & Services\n",
        "    \"APOLLOTYRE.NS\", \"ASHOKLEY.NS\", \"BAJAJ-AUTO.NS\", \"BATAINDIA.NS\", \"BERGEPAINT.NS\",\n",
        "    \"BRITANNIA.NS\", \"DMART.NS\", \"EIHOTEL.NS\", \"GODREJCP.NS\", \"HAVELLS.NS\",\n",
        "    \"HINDUNILVR.NS\", \"JUBLFOOD.NS\", \"MARICO.NS\", \"UNITDSPR.NS\", \"NESTLEIND.NS\",\n",
        "    \"PIDILITIND.NS\", \"TITAN.NS\", \"TATACONSUM.NS\", \"VEDL.NS\",\n",
        "\n",
        "    # Technology & IT\n",
        "    \"ANGELONE.NS\", \"COFORGE.NS\", \"CAMS.NS\", \"CYIENT.NS\", \"DELHIVERY.NS\",\n",
        "    \"HCLTECH.NS\", \"INFY.NS\", \"JIOFIN.NS\", \"KPITTECH.NS\", \"LTIM.NS\", \"LTTS.NS\",\n",
        "   \"NAUKRI.NS\", \"PAYTM.NS\", \"POLICYBZR.NS\", \"TATAELXSI.NS\",\n",
        "    \"TATASTEEL.NS\", \"TECHM.NS\", \"WIPRO.NS\", \"ETERNAL.NS\",\n",
        "\n",
        "    # Infrastructure & Construction\n",
        "    \"APLAPOLLO.NS\", \"ACE.NS\", \"BLUEDART.NS\", \"CUB.NS\", \"DLF.NS\", \"GRANULES.NS\",\n",
        "    \"IRB.NS\", \"NCC.NS\", \"NHPC.NS\", \"PRESTIGE.NS\", \"RELIANCE.NS\",\n",
        "    \"POWERGRID.NS\", \"PFC.NS\",\n",
        "\n",
        "    # Manufacturing & Industrials\n",
        "    \"ABB.NS\", \"AMBUJACEM.NS\", \"BALKRISIND.NS\", \"BALRAMCHIN.NS\", \"BHEL.NS\",\n",
        "    \"BOSCHLTD.NS\", \"CGPOWER.NS\", \"CESC.NS\", \"EICHERMOT.NS\", \"ESCORTS.NS\",\n",
        "    \"HAL.NS\", \"HFCL.NS\", \"HEROMOTOCO.NS\", \"HINDALCO.NS\", \"HINDCOPPER.NS\",\n",
        "    \"ITC.NS\", \"JSL.NS\", \"JSWENERGY.NS\", \"JSWSTEEL.NS\", \"KEI.NS\", \"LT.NS\",\n",
        "    \"M&M.NS\", \"SAIL.NS\", \"SUPREMEIND.NS\", \"TATACHEM.NS\", \"TATAMOTORS.NS\",\n",
        "    \"TIINDIA.NS\", \"TVSMOTOR.NS\", \"ULTRACEMCO.NS\", \"ZEEL.NS\",\n",
        "\n",
        "    # Healthcare & Pharma\n",
        "    \"ABBOTINDIA.NS\", \"ALKEM.NS\", \"APOLLOHOSP.NS\", \"BIOCON.NS\", \"CIPLA.NS\",\n",
        "    \"DIVISLAB.NS\", \"DRREDDY.NS\", \"IPCALAB.NS\", \"LUPIN.NS\", \"MAXHEALTH.NS\",\n",
        "    \"SUNPHARMA.NS\", \"TORNTPHARM.NS\",\n",
        "\n",
        "    # Other Sectors\n",
        "    \"BSE.NS\", \"CDSL.NS\", \"COALINDIA.NS\", \"GAIL.NS\", \"HINDZINC.NS\", \"IRFC.NS\",\n",
        "    \"LICI.NS\", \"MGL.NS\", \"MSUMI.NS\", \"NMDC.NS\", \"ONGC.NS\", \"PETRONET.NS\",\n",
        "    \"PNBHOUSING.NS\", \"RECLTD.NS\", \"SJVN.NS\", \"SONACOMS.NS\", \"TATAPOWER.NS\",\n",
        "    \"HUDCO.NS\", \"NYKAA.NS\", \"OIL.NS\", \"IEX.NS\", \"IRCTC.NS\",\n",
        "    \"DLF.NS\", \"LODHA.NS\", \"LICHSGFIN.NS\"\n",
        "]\n"
      ]
    },
    {
      "cell_type": "code",
      "source": [
        "import yfinance as yf\n",
        "import pandas as pd\n",
        "import schedule\n",
        "import time\n",
        "from datetime import datetime\n",
        "\n",
        "def get_top_gainers_losers():\n",
        "    print(f\"\\n⏰ {datetime.now().strftime('%Y-%m-%d %H:%M:%S')} — Fetching data...\")\n",
        "\n",
        "    try:\n",
        "        data = yf.download(tickers=fo_stocks, period='1d', interval='1m', group_by='ticker', threads=True)\n",
        "\n",
        "        result = []\n",
        "\n",
        "        for stock in fo_stocks:\n",
        "            try:\n",
        "                df = data[stock].copy()\n",
        "                last_row = df.iloc[-1]\n",
        "                open_price = df.iloc[0]['Open']\n",
        "                close_price = last_row['Close']\n",
        "                change_pct = ((close_price - open_price) / open_price) * 100\n",
        "\n",
        "                result.append({\n",
        "                    \"symbol\": stock.replace(\".NS\", \"\"),\n",
        "                    \"open\": round(open_price, 2),\n",
        "                    \"last_price\": round(close_price, 2),\n",
        "                    \"change_pct\": round(change_pct, 2)\n",
        "                })\n",
        "\n",
        "            except Exception as e:\n",
        "                continue  # skip bad data\n",
        "\n",
        "        df_result = pd.DataFrame(result).dropna()\n",
        "\n",
        "        top_gainers = df_result.sort_values(by=\"change_pct\", ascending=False).head(10)\n",
        "        top_losers = df_result.sort_values(by=\"change_pct\", ascending=True).head(10)\n",
        "\n",
        "        print(\"\\n📈 Top 10 Gainers\")\n",
        "        print(top_gainers.to_string(index=False))\n",
        "\n",
        "        print(\"\\n📉 Top 10 Losers\")\n",
        "        print(top_losers.to_string(index=False))\n",
        "\n",
        "    except Exception as e:\n",
        "        print(\"❌ Error fetching data:\", e)\n",
        "\n",
        "# Run every 1 minute\n",
        "schedule.every(1).minutes.do(get_top_gainers_losers)\n",
        "\n",
        "# Initial call\n",
        "get_top_gainers_losers()\n",
        "\n",
        "print(\"\\n🔁 Running every 1 minute... Press Ctrl+C to stop.\")\n",
        "while True:\n",
        "    schedule.run_pending()\n",
        "    time.sleep(1)"
      ],
      "metadata": {
        "colab": {
          "base_uri": "https://localhost:8080/",
          "height": 1000
        },
        "id": "c4QjT3AmmFNz",
        "outputId": "de69ac7e-2700-4140-dccf-6910fcd3c43d"
      },
      "execution_count": null,
      "outputs": [
        {
          "output_type": "stream",
          "name": "stdout",
          "text": [
            "\n",
            "⏰ 2025-08-06 07:29:42 — Fetching data...\n"
          ]
        },
        {
          "output_type": "stream",
          "name": "stderr",
          "text": [
            "/tmp/ipython-input-1386858309.py:11: FutureWarning: YF.download() has changed argument auto_adjust default to True\n",
            "  data = yf.download(tickers=fo_stocks, period='1d', interval='1m', group_by='ticker', threads=True)\n",
            "[*********************100%***********************]  146 of 146 completed\n",
            "ERROR:yfinance:\n",
            "1 Failed download:\n",
            "ERROR:yfinance:['L&TFH.NS']: YFPricesMissingError('possibly delisted; no price data found  (period=1d) (Yahoo error = \"No data found, symbol may be delisted\")')\n",
            "/tmp/ipython-input-1386858309.py:11: FutureWarning: YF.download() has changed argument auto_adjust default to True\n",
            "  data = yf.download(tickers=fo_stocks, period='1d', interval='1m', group_by='ticker', threads=True)\n",
            "[                       0%                       ]"
          ]
        },
        {
          "output_type": "stream",
          "name": "stdout",
          "text": [
            "\n",
            "📈 Top 10 Gainers\n",
            "    symbol    open  last_price  change_pct\n",
            " UNIONBANK  128.35      130.70        1.83\n",
            "       BSE 2363.40     2402.10        1.64\n",
            "     CANBK  107.73      109.36        1.51\n",
            "PNBHOUSING  771.85      782.00        1.32\n",
            "      LICI  892.00      901.25        1.04\n",
            "     PAYTM 1055.10     1065.30        0.97\n",
            " BANKINDIA  111.19      112.12        0.84\n",
            " COALINDIA  374.20      377.00        0.75\n",
            "       NCC  213.34      214.86        0.71\n",
            "      SBIN  800.95      806.45        0.69\n",
            "\n",
            "📉 Top 10 Losers\n",
            "    symbol     open  last_price  change_pct\n",
            "  BOSCHLTD 40480.00    38495.00       -4.90\n",
            "BALRAMCHIN   569.00      544.10       -4.38\n",
            "BALKRISIND  2535.20     2435.10       -3.95\n",
            "  DIVISLAB  6415.50     6187.50       -3.55\n",
            "      ZEEL   117.15      113.08       -3.47\n",
            "   COFORGE  1708.60     1651.40       -3.35\n",
            "      BHEL   248.78      240.60       -3.29\n",
            " BRITANNIA  5557.50     5400.00       -2.83\n",
            "  GRANULES   447.00      435.95       -2.47\n",
            "     HUDCO   218.33      213.79       -2.08\n",
            "\n",
            "🔁 Running every 1 minute... Press Ctrl+C to stop.\n",
            "\n",
            "⏰ 2025-08-06 07:29:53 — Fetching data...\n"
          ]
        },
        {
          "output_type": "stream",
          "name": "stderr",
          "text": [
            "[*********************100%***********************]  146 of 146 completed\n",
            "ERROR:yfinance:\n",
            "1 Failed download:\n",
            "ERROR:yfinance:['L&TFH.NS']: YFPricesMissingError('possibly delisted; no price data found  (period=1d) (Yahoo error = \"No data found, symbol may be delisted\")')\n",
            "/tmp/ipython-input-1386858309.py:11: FutureWarning: YF.download() has changed argument auto_adjust default to True\n",
            "  data = yf.download(tickers=fo_stocks, period='1d', interval='1m', group_by='ticker', threads=True)\n",
            "[                       0%                       ]"
          ]
        },
        {
          "output_type": "stream",
          "name": "stdout",
          "text": [
            "\n",
            "📈 Top 10 Gainers\n",
            "   symbol    open  last_price  change_pct\n",
            "UNIONBANK  128.35      130.72        1.85\n",
            "      BSE 2363.40     2402.10        1.64\n",
            "     ONGC  234.35      233.58       -0.33\n",
            "  YESBANK   18.86       18.78       -0.42\n",
            "      ITC  414.15      411.30       -0.69\n",
            " PETRONET  278.10      274.00       -1.47\n",
            "\n",
            "📉 Top 10 Losers\n",
            "   symbol    open  last_price  change_pct\n",
            " PETRONET  278.10      274.00       -1.47\n",
            "      ITC  414.15      411.30       -0.69\n",
            "  YESBANK   18.86       18.78       -0.42\n",
            "     ONGC  234.35      233.58       -0.33\n",
            "      BSE 2363.40     2402.10        1.64\n",
            "UNIONBANK  128.35      130.72        1.85\n",
            "\n",
            "⏰ 2025-08-06 07:30:03 — Fetching data...\n"
          ]
        },
        {
          "output_type": "stream",
          "name": "stderr",
          "text": [
            "[*********************100%***********************]  146 of 146 completed\n",
            "ERROR:yfinance:\n",
            "1 Failed download:\n",
            "ERROR:yfinance:['L&TFH.NS']: YFPricesMissingError('possibly delisted; no price data found  (period=1d) (Yahoo error = \"No data found, symbol may be delisted\")')\n"
          ]
        },
        {
          "output_type": "stream",
          "name": "stdout",
          "text": [
            "\n",
            "📈 Top 10 Gainers\n",
            "    symbol    open  last_price  change_pct\n",
            " UNIONBANK  128.35      130.72        1.85\n",
            "       BSE 2363.40     2402.50        1.65\n",
            "     CANBK  107.73      109.40        1.55\n",
            "PNBHOUSING  771.85      782.00        1.32\n",
            "      LICI  892.00      901.20        1.03\n",
            "     PAYTM 1055.10     1065.10        0.95\n",
            " COALINDIA  374.20      377.35        0.84\n",
            "       NCC  213.34      214.98        0.77\n",
            " BANKINDIA  111.19      112.03        0.76\n",
            "      SBIN  800.95      806.45        0.69\n",
            "\n",
            "📉 Top 10 Losers\n",
            "    symbol     open  last_price  change_pct\n",
            "BALRAMCHIN   569.00      544.25       -4.35\n",
            "BALKRISIND  2535.20     2434.60       -3.97\n",
            "  DIVISLAB  6415.50     6189.00       -3.53\n",
            "      ZEEL   117.15      113.08       -3.47\n",
            "   COFORGE  1708.60     1652.10       -3.31\n",
            "      BHEL   248.78      240.64       -3.27\n",
            " BRITANNIA  5557.50     5400.50       -2.83\n",
            " APLAPOLLO  1616.80     1583.50       -2.06\n",
            "ABBOTINDIA 33310.00    32630.00       -2.04\n",
            "     HUDCO   218.33      213.90       -2.03\n"
          ]
        },
        {
          "output_type": "stream",
          "name": "stderr",
          "text": [
            "/tmp/ipython-input-1386858309.py:11: FutureWarning: YF.download() has changed argument auto_adjust default to True\n",
            "  data = yf.download(tickers=fo_stocks, period='1d', interval='1m', group_by='ticker', threads=True)\n",
            "\r[                       0%                       ]"
          ]
        },
        {
          "output_type": "stream",
          "name": "stdout",
          "text": [
            "\n",
            "⏰ 2025-08-06 07:30:43 — Fetching data...\n"
          ]
        },
        {
          "output_type": "stream",
          "name": "stderr",
          "text": [
            "[*********************100%***********************]  146 of 146 completed\n",
            "ERROR:yfinance:\n",
            "1 Failed download:\n",
            "ERROR:yfinance:['L&TFH.NS']: YFPricesMissingError('possibly delisted; no price data found  (period=1d) (Yahoo error = \"No data found, symbol may be delisted\")')\n"
          ]
        },
        {
          "output_type": "stream",
          "name": "stdout",
          "text": [
            "\n",
            "📈 Top 10 Gainers\n",
            "    symbol    open  last_price  change_pct\n",
            " UNIONBANK  128.35      130.90        1.99\n",
            "       BSE 2363.40     2402.50        1.65\n",
            "     CANBK  107.73      109.46        1.61\n",
            "PNBHOUSING  771.85      781.15        1.20\n",
            "      LICI  892.00      900.85        0.99\n",
            "     PAYTM 1055.10     1065.30        0.97\n",
            " BANKINDIA  111.19      112.25        0.95\n",
            " COALINDIA  374.20      377.20        0.80\n",
            "      SBIN  800.95      807.00        0.76\n",
            "       NCC  213.34      214.87        0.72\n",
            "\n",
            "📉 Top 10 Losers\n",
            "    symbol     open  last_price  change_pct\n",
            "  BOSCHLTD 40480.00    38500.00       -4.89\n",
            "BALRAMCHIN   569.00      542.80       -4.60\n",
            "BALKRISIND  2535.20     2436.10       -3.91\n",
            "  DIVISLAB  6415.50     6190.00       -3.51\n",
            "      ZEEL   117.15      113.14       -3.42\n",
            "   COFORGE  1708.60     1650.50       -3.40\n",
            "      BHEL   248.78      240.70       -3.25\n",
            " BRITANNIA  5557.50     5401.00       -2.82\n",
            "  GRANULES   447.00      436.25       -2.40\n",
            "     HUDCO   218.33      213.80       -2.07\n"
          ]
        },
        {
          "output_type": "stream",
          "name": "stderr",
          "text": [
            "/tmp/ipython-input-1386858309.py:11: FutureWarning: YF.download() has changed argument auto_adjust default to True\n",
            "  data = yf.download(tickers=fo_stocks, period='1d', interval='1m', group_by='ticker', threads=True)\n",
            "\r[                       0%                       ]"
          ]
        },
        {
          "output_type": "stream",
          "name": "stdout",
          "text": [
            "\n",
            "⏰ 2025-08-06 07:31:04 — Fetching data...\n"
          ]
        },
        {
          "output_type": "stream",
          "name": "stderr",
          "text": [
            "[*********************100%***********************]  146 of 146 completed\n",
            "ERROR:yfinance:\n",
            "1 Failed download:\n",
            "ERROR:yfinance:['L&TFH.NS']: YFPricesMissingError('possibly delisted; no price data found  (period=1d) (Yahoo error = \"No data found, symbol may be delisted\")')\n"
          ]
        },
        {
          "output_type": "stream",
          "name": "stdout",
          "text": [
            "\n",
            "📈 Top 10 Gainers\n",
            "    symbol    open  last_price  change_pct\n",
            " UNIONBANK  128.35      130.88        1.97\n",
            "       BSE 2363.40     2406.50        1.82\n",
            "     CANBK  107.73      109.46        1.61\n",
            "PNBHOUSING  771.85      781.45        1.24\n",
            "     PAYTM 1055.10     1065.20        0.96\n",
            " BANKINDIA  111.19      112.20        0.91\n",
            " COALINDIA  374.20      377.30        0.83\n",
            "      SBIN  800.95      806.90        0.74\n",
            "       NCC  213.34      214.87        0.72\n",
            "BANKBARODA  240.86      242.51        0.69\n",
            "\n",
            "📉 Top 10 Losers\n",
            "    symbol     open  last_price  change_pct\n",
            "  BOSCHLTD 40480.00    38495.00       -4.90\n",
            "BALRAMCHIN   569.00      542.30       -4.69\n",
            "  DIVISLAB  6415.50     6190.00       -3.51\n",
            "   COFORGE  1708.60     1650.60       -3.39\n",
            "      BHEL   248.78      240.63       -3.28\n",
            " BRITANNIA  5557.50     5400.50       -2.83\n",
            " APLAPOLLO  1616.80     1582.40       -2.13\n",
            "     HUDCO   218.33      213.84       -2.06\n",
            "ABBOTINDIA 33310.00    32665.00       -1.94\n",
            "       PFC   414.60      406.80       -1.88\n"
          ]
        },
        {
          "output_type": "stream",
          "name": "stderr",
          "text": [
            "/tmp/ipython-input-1386858309.py:11: FutureWarning: YF.download() has changed argument auto_adjust default to True\n",
            "  data = yf.download(tickers=fo_stocks, period='1d', interval='1m', group_by='ticker', threads=True)\n",
            "\r[                       0%                       ]"
          ]
        },
        {
          "output_type": "stream",
          "name": "stdout",
          "text": [
            "\n",
            "⏰ 2025-08-06 07:31:14 — Fetching data...\n"
          ]
        },
        {
          "output_type": "stream",
          "name": "stderr",
          "text": [
            "[*********************100%***********************]  146 of 146 completed\n",
            "ERROR:yfinance:\n",
            "1 Failed download:\n",
            "ERROR:yfinance:['L&TFH.NS']: YFPricesMissingError('possibly delisted; no price data found  (period=1d) (Yahoo error = \"No data found, symbol may be delisted\")')\n"
          ]
        },
        {
          "output_type": "stream",
          "name": "stdout",
          "text": [
            "\n",
            "📈 Top 10 Gainers\n",
            "    symbol    open  last_price  change_pct\n",
            " UNIONBANK  128.35      130.88        1.97\n",
            "       BSE 2363.40     2408.60        1.91\n",
            "     CANBK  107.73      109.44        1.59\n",
            "PNBHOUSING  771.85      781.45        1.24\n",
            "     PAYTM 1055.10     1065.20        0.96\n",
            "      LICI  892.00      899.65        0.86\n",
            " BANKINDIA  111.19      112.14        0.85\n",
            " COALINDIA  374.20      377.30        0.83\n",
            "      SBIN  800.95      806.90        0.74\n",
            "       NCC  213.34      214.89        0.73\n",
            "\n",
            "📉 Top 10 Losers\n",
            "    symbol     open  last_price  change_pct\n",
            "  BOSCHLTD 40480.00    38495.00       -4.90\n",
            "BALRAMCHIN   569.00      541.60       -4.82\n",
            "BALKRISIND  2535.20     2436.10       -3.91\n",
            "  DIVISLAB  6415.50     6188.00       -3.55\n",
            "      ZEEL   117.15      113.13       -3.43\n",
            "   COFORGE  1708.60     1650.50       -3.40\n",
            "      BHEL   248.78      240.69       -3.25\n",
            " BRITANNIA  5557.50     5401.00       -2.82\n",
            "  GRANULES   447.00      436.00       -2.46\n",
            " APLAPOLLO  1616.80     1582.40       -2.13\n"
          ]
        },
        {
          "output_type": "stream",
          "name": "stderr",
          "text": [
            "/tmp/ipython-input-1386858309.py:11: FutureWarning: YF.download() has changed argument auto_adjust default to True\n",
            "  data = yf.download(tickers=fo_stocks, period='1d', interval='1m', group_by='ticker', threads=True)\n",
            "\r[                       0%                       ]"
          ]
        },
        {
          "output_type": "stream",
          "name": "stdout",
          "text": [
            "\n",
            "⏰ 2025-08-06 07:31:52 — Fetching data...\n"
          ]
        },
        {
          "output_type": "stream",
          "name": "stderr",
          "text": [
            "[*********************100%***********************]  146 of 146 completed\n",
            "ERROR:yfinance:\n",
            "1 Failed download:\n",
            "ERROR:yfinance:['L&TFH.NS']: YFPricesMissingError('possibly delisted; no price data found  (period=1d) (Yahoo error = \"No data found, symbol may be delisted\")')\n"
          ]
        },
        {
          "output_type": "stream",
          "name": "stdout",
          "text": [
            "\n",
            "📈 Top 10 Gainers\n",
            "    symbol    open  last_price  change_pct\n",
            " UNIONBANK  128.35      131.08        2.13\n",
            "       BSE 2363.40     2409.80        1.96\n",
            "     CANBK  107.73      109.65        1.78\n",
            "PNBHOUSING  771.85      781.80        1.29\n",
            "     PAYTM 1055.10     1066.00        1.03\n",
            " BANKINDIA  111.19      112.22        0.93\n",
            " COALINDIA  374.20      377.45        0.87\n",
            "BANKBARODA  240.86      242.88        0.84\n",
            "      SBIN  800.95      807.70        0.84\n",
            "   TIINDIA 2908.90     2933.10        0.83\n",
            "\n",
            "📉 Top 10 Losers\n",
            "    symbol     open  last_price  change_pct\n",
            "  BOSCHLTD 40480.00    38495.00       -4.90\n",
            "BALRAMCHIN   569.00      542.75       -4.61\n",
            "BALKRISIND  2535.20     2435.00       -3.95\n",
            "  DIVISLAB  6415.50     6183.50       -3.62\n",
            "   COFORGE  1708.60     1649.90       -3.44\n",
            "      ZEEL   117.15      113.16       -3.41\n",
            "      BHEL   248.78      240.65       -3.27\n",
            " BRITANNIA  5557.50     5402.00       -2.80\n",
            "  GRANULES   447.00      436.10       -2.44\n",
            " APLAPOLLO  1616.80     1583.20       -2.08\n"
          ]
        },
        {
          "output_type": "stream",
          "name": "stderr",
          "text": [
            "/tmp/ipython-input-1386858309.py:11: FutureWarning: YF.download() has changed argument auto_adjust default to True\n",
            "  data = yf.download(tickers=fo_stocks, period='1d', interval='1m', group_by='ticker', threads=True)\n",
            "\r[                       0%                       ]"
          ]
        },
        {
          "output_type": "stream",
          "name": "stdout",
          "text": [
            "\n",
            "⏰ 2025-08-06 07:32:14 — Fetching data...\n"
          ]
        },
        {
          "output_type": "stream",
          "name": "stderr",
          "text": [
            "[*********************100%***********************]  146 of 146 completed\n",
            "ERROR:yfinance:\n",
            "1 Failed download:\n",
            "ERROR:yfinance:['L&TFH.NS']: YFPricesMissingError('possibly delisted; no price data found  (period=1d) (Yahoo error = \"No data found, symbol may be delisted\")')\n"
          ]
        },
        {
          "output_type": "stream",
          "name": "stdout",
          "text": [
            "\n",
            "📈 Top 10 Gainers\n",
            "    symbol    open  last_price  change_pct\n",
            " UNIONBANK  128.35      130.94        2.02\n",
            "       BSE 2363.40     2408.60        1.91\n",
            "     CANBK  107.73      109.71        1.84\n",
            "PNBHOUSING  771.85      781.40        1.24\n",
            "     PAYTM 1055.10     1066.30        1.06\n",
            "   TIINDIA 2908.90     2935.60        0.92\n",
            " BANKINDIA  111.19      112.21        0.92\n",
            " COALINDIA  374.20      377.45        0.87\n",
            "BANKBARODA  240.86      242.87        0.83\n",
            "      SBIN  800.95      807.45        0.81\n",
            "\n",
            "📉 Top 10 Losers\n",
            "    symbol     open  last_price  change_pct\n",
            "  BOSCHLTD 40480.00    38500.00       -4.89\n",
            "BALRAMCHIN   569.00      542.75       -4.61\n",
            "BALKRISIND  2535.20     2435.00       -3.95\n",
            "  DIVISLAB  6415.50     6185.50       -3.59\n",
            "   COFORGE  1708.60     1650.50       -3.40\n",
            "      ZEEL   117.15      113.17       -3.40\n",
            "      BHEL   248.78      240.67       -3.26\n",
            " BRITANNIA  5557.50     5402.00       -2.80\n",
            "  GRANULES   447.00      436.10       -2.44\n",
            " APLAPOLLO  1616.80     1582.10       -2.15\n"
          ]
        },
        {
          "output_type": "stream",
          "name": "stderr",
          "text": [
            "/tmp/ipython-input-1386858309.py:11: FutureWarning: YF.download() has changed argument auto_adjust default to True\n",
            "  data = yf.download(tickers=fo_stocks, period='1d', interval='1m', group_by='ticker', threads=True)\n",
            "\r[                       0%                       ]"
          ]
        },
        {
          "output_type": "stream",
          "name": "stdout",
          "text": [
            "\n",
            "⏰ 2025-08-06 07:32:24 — Fetching data...\n"
          ]
        },
        {
          "output_type": "stream",
          "name": "stderr",
          "text": [
            "[*********************100%***********************]  146 of 146 completed\n",
            "ERROR:yfinance:\n",
            "1 Failed download:\n",
            "ERROR:yfinance:['L&TFH.NS']: YFPricesMissingError('possibly delisted; no price data found  (period=1d) (Yahoo error = \"No data found, symbol may be delisted\")')\n"
          ]
        },
        {
          "output_type": "stream",
          "name": "stdout",
          "text": [
            "\n",
            "📈 Top 10 Gainers\n",
            "    symbol    open  last_price  change_pct\n",
            " UNIONBANK  128.35      130.98        2.05\n",
            "       BSE 2363.40     2408.20        1.90\n",
            "     CANBK  107.73      109.67        1.80\n",
            "PNBHOUSING  771.85      781.35        1.23\n",
            "     PAYTM 1055.10     1066.50        1.08\n",
            "   TIINDIA 2908.90     2937.00        0.97\n",
            " BANKINDIA  111.19      112.22        0.93\n",
            " COALINDIA  374.20      377.40        0.86\n",
            "      SBIN  800.95      807.50        0.82\n",
            "BANKBARODA  240.86      242.75        0.78\n",
            "\n",
            "📉 Top 10 Losers\n",
            "    symbol     open  last_price  change_pct\n",
            "  BOSCHLTD 40480.00    38500.00       -4.89\n",
            "BALRAMCHIN   569.00      542.75       -4.61\n",
            "BALKRISIND  2535.20     2435.00       -3.95\n",
            "  DIVISLAB  6415.50     6185.50       -3.59\n",
            "   COFORGE  1708.60     1650.00       -3.43\n",
            "      ZEEL   117.15      113.16       -3.41\n",
            "      BHEL   248.78      240.68       -3.26\n",
            " BRITANNIA  5557.50     5402.00       -2.80\n",
            "  GRANULES   447.00      436.10       -2.44\n",
            " APLAPOLLO  1616.80     1582.90       -2.10\n"
          ]
        },
        {
          "output_type": "stream",
          "name": "stderr",
          "text": [
            "/tmp/ipython-input-1386858309.py:11: FutureWarning: YF.download() has changed argument auto_adjust default to True\n",
            "  data = yf.download(tickers=fo_stocks, period='1d', interval='1m', group_by='ticker', threads=True)\n",
            "\r[                       0%                       ]"
          ]
        },
        {
          "output_type": "stream",
          "name": "stdout",
          "text": [
            "\n",
            "⏰ 2025-08-06 07:33:02 — Fetching data...\n"
          ]
        },
        {
          "output_type": "stream",
          "name": "stderr",
          "text": [
            "[*********************100%***********************]  146 of 146 completed\n",
            "ERROR:yfinance:\n",
            "1 Failed download:\n",
            "ERROR:yfinance:['L&TFH.NS']: YFPricesMissingError('possibly delisted; no price data found  (period=1d) (Yahoo error = \"No data found, symbol may be delisted\")')\n"
          ]
        },
        {
          "output_type": "stream",
          "name": "stdout",
          "text": [
            "\n",
            "📈 Top 10 Gainers\n",
            "    symbol    open  last_price  change_pct\n",
            " UNIONBANK  128.35      131.01        2.07\n",
            "       BSE 2363.40     2410.00        1.97\n",
            "     CANBK  107.73      109.70        1.83\n",
            "PNBHOUSING  771.85      781.00        1.19\n",
            "  SONACOMS  444.20      449.20        1.13\n",
            "   TIINDIA 2908.90     2939.90        1.07\n",
            "     PAYTM 1055.10     1066.30        1.06\n",
            " COALINDIA  374.20      377.50        0.88\n",
            "      SBIN  800.95      807.65        0.84\n",
            "      LICI  892.00      899.45        0.84\n",
            "\n",
            "📉 Top 10 Losers\n",
            "    symbol     open  last_price  change_pct\n",
            "BALRAMCHIN   569.00      542.85       -4.60\n",
            "BALKRISIND  2535.20     2433.50       -4.01\n",
            "  DIVISLAB  6415.50     6185.50       -3.59\n",
            "   COFORGE  1708.60     1650.40       -3.41\n",
            "      BHEL   248.78      240.72       -3.24\n",
            " APLAPOLLO  1616.80     1582.10       -2.15\n",
            "     HUDCO   218.33      213.95       -2.01\n",
            " AMBUJACEM   605.60      594.00       -1.92\n",
            "ABBOTINDIA 33310.00    32680.00       -1.89\n",
            "       PFC   414.60      407.20       -1.78\n"
          ]
        },
        {
          "output_type": "stream",
          "name": "stderr",
          "text": [
            "/tmp/ipython-input-1386858309.py:11: FutureWarning: YF.download() has changed argument auto_adjust default to True\n",
            "  data = yf.download(tickers=fo_stocks, period='1d', interval='1m', group_by='ticker', threads=True)\n",
            "\r[                       0%                       ]"
          ]
        },
        {
          "output_type": "stream",
          "name": "stdout",
          "text": [
            "\n",
            "⏰ 2025-08-06 07:33:23 — Fetching data...\n"
          ]
        },
        {
          "output_type": "stream",
          "name": "stderr",
          "text": [
            "[*********************100%***********************]  146 of 146 completed\n",
            "ERROR:yfinance:\n",
            "1 Failed download:\n",
            "ERROR:yfinance:['L&TFH.NS']: YFPricesMissingError('possibly delisted; no price data found  (period=1d) (Yahoo error = \"No data found, symbol may be delisted\")')\n"
          ]
        },
        {
          "output_type": "stream",
          "name": "stdout",
          "text": [
            "\n",
            "📈 Top 10 Gainers\n",
            "    symbol    open  last_price  change_pct\n",
            " UNIONBANK  128.35      131.00        2.06\n",
            "       BSE 2363.40     2409.00        1.93\n",
            "     CANBK  107.73      109.70        1.83\n",
            "PNBHOUSING  771.85      781.00        1.19\n",
            "  SONACOMS  444.20      449.30        1.15\n",
            "     PAYTM 1055.10     1066.70        1.10\n",
            "   TIINDIA 2908.90     2939.90        1.07\n",
            " BANKINDIA  111.19      112.26        0.96\n",
            " COALINDIA  374.20      377.50        0.88\n",
            "      SBIN  800.95      807.80        0.86\n",
            "\n",
            "📉 Top 10 Losers\n",
            "    symbol     open  last_price  change_pct\n",
            "  BOSCHLTD 40480.00    38500.00       -4.89\n",
            "BALRAMCHIN   569.00      542.75       -4.61\n",
            "BALKRISIND  2535.20     2433.90       -4.00\n",
            "  DIVISLAB  6415.50     6186.50       -3.57\n",
            "      ZEEL   117.15      113.17       -3.40\n",
            "   COFORGE  1708.60     1650.80       -3.38\n",
            "      BHEL   248.78      240.88       -3.18\n",
            " BRITANNIA  5557.50     5401.00       -2.82\n",
            " APLAPOLLO  1616.80     1582.50       -2.12\n",
            "     HUDCO   218.33      214.00       -1.98\n"
          ]
        },
        {
          "output_type": "stream",
          "name": "stderr",
          "text": [
            "/tmp/ipython-input-1386858309.py:11: FutureWarning: YF.download() has changed argument auto_adjust default to True\n",
            "  data = yf.download(tickers=fo_stocks, period='1d', interval='1m', group_by='ticker', threads=True)\n",
            "\r[                       0%                       ]"
          ]
        },
        {
          "output_type": "stream",
          "name": "stdout",
          "text": [
            "\n",
            "⏰ 2025-08-06 07:33:33 — Fetching data...\n"
          ]
        },
        {
          "output_type": "stream",
          "name": "stderr",
          "text": [
            "[***                    6%                       ]  9 of 146 completed"
          ]
        },
        {
          "output_type": "error",
          "ename": "KeyboardInterrupt",
          "evalue": "",
          "traceback": [
            "\u001b[0;31m---------------------------------------------------------------------------\u001b[0m",
            "\u001b[0;31mKeyboardInterrupt\u001b[0m                         Traceback (most recent call last)",
            "\u001b[0;32m/tmp/ipython-input-1386858309.py\u001b[0m in \u001b[0;36m<cell line: 0>\u001b[0;34m()\u001b[0m\n\u001b[1;32m     53\u001b[0m \u001b[0mprint\u001b[0m\u001b[0;34m(\u001b[0m\u001b[0;34m\"\\n🔁 Running every 1 minute... Press Ctrl+C to stop.\"\u001b[0m\u001b[0;34m)\u001b[0m\u001b[0;34m\u001b[0m\u001b[0;34m\u001b[0m\u001b[0m\n\u001b[1;32m     54\u001b[0m \u001b[0;32mwhile\u001b[0m \u001b[0;32mTrue\u001b[0m\u001b[0;34m:\u001b[0m\u001b[0;34m\u001b[0m\u001b[0;34m\u001b[0m\u001b[0m\n\u001b[0;32m---> 55\u001b[0;31m     \u001b[0mschedule\u001b[0m\u001b[0;34m.\u001b[0m\u001b[0mrun_pending\u001b[0m\u001b[0;34m(\u001b[0m\u001b[0;34m)\u001b[0m\u001b[0;34m\u001b[0m\u001b[0;34m\u001b[0m\u001b[0m\n\u001b[0m\u001b[1;32m     56\u001b[0m     \u001b[0mtime\u001b[0m\u001b[0;34m.\u001b[0m\u001b[0msleep\u001b[0m\u001b[0;34m(\u001b[0m\u001b[0;36m1\u001b[0m\u001b[0;34m)\u001b[0m\u001b[0;34m\u001b[0m\u001b[0;34m\u001b[0m\u001b[0m\n",
            "\u001b[0;32m/usr/local/lib/python3.11/dist-packages/schedule/__init__.py\u001b[0m in \u001b[0;36mrun_pending\u001b[0;34m()\u001b[0m\n\u001b[1;32m    852\u001b[0m     \u001b[0;34m:\u001b[0m\u001b[0mdata\u001b[0m\u001b[0;34m:\u001b[0m\u001b[0;31m`\u001b[0m\u001b[0mdefault\u001b[0m \u001b[0mscheduler\u001b[0m \u001b[0minstance\u001b[0m \u001b[0;34m<\u001b[0m\u001b[0mdefault_scheduler\u001b[0m\u001b[0;34m>\u001b[0m\u001b[0;31m`\u001b[0m\u001b[0;34m.\u001b[0m\u001b[0;34m\u001b[0m\u001b[0;34m\u001b[0m\u001b[0m\n\u001b[1;32m    853\u001b[0m     \"\"\"\n\u001b[0;32m--> 854\u001b[0;31m     \u001b[0mdefault_scheduler\u001b[0m\u001b[0;34m.\u001b[0m\u001b[0mrun_pending\u001b[0m\u001b[0;34m(\u001b[0m\u001b[0;34m)\u001b[0m\u001b[0;34m\u001b[0m\u001b[0;34m\u001b[0m\u001b[0m\n\u001b[0m\u001b[1;32m    855\u001b[0m \u001b[0;34m\u001b[0m\u001b[0m\n\u001b[1;32m    856\u001b[0m \u001b[0;34m\u001b[0m\u001b[0m\n",
            "\u001b[0;32m/usr/local/lib/python3.11/dist-packages/schedule/__init__.py\u001b[0m in \u001b[0;36mrun_pending\u001b[0;34m(self)\u001b[0m\n\u001b[1;32m     99\u001b[0m         \u001b[0mrunnable_jobs\u001b[0m \u001b[0;34m=\u001b[0m \u001b[0;34m(\u001b[0m\u001b[0mjob\u001b[0m \u001b[0;32mfor\u001b[0m \u001b[0mjob\u001b[0m \u001b[0;32min\u001b[0m \u001b[0mself\u001b[0m\u001b[0;34m.\u001b[0m\u001b[0mjobs\u001b[0m \u001b[0;32mif\u001b[0m \u001b[0mjob\u001b[0m\u001b[0;34m.\u001b[0m\u001b[0mshould_run\u001b[0m\u001b[0;34m)\u001b[0m\u001b[0;34m\u001b[0m\u001b[0;34m\u001b[0m\u001b[0m\n\u001b[1;32m    100\u001b[0m         \u001b[0;32mfor\u001b[0m \u001b[0mjob\u001b[0m \u001b[0;32min\u001b[0m \u001b[0msorted\u001b[0m\u001b[0;34m(\u001b[0m\u001b[0mrunnable_jobs\u001b[0m\u001b[0;34m)\u001b[0m\u001b[0;34m:\u001b[0m\u001b[0;34m\u001b[0m\u001b[0;34m\u001b[0m\u001b[0m\n\u001b[0;32m--> 101\u001b[0;31m             \u001b[0mself\u001b[0m\u001b[0;34m.\u001b[0m\u001b[0m_run_job\u001b[0m\u001b[0;34m(\u001b[0m\u001b[0mjob\u001b[0m\u001b[0;34m)\u001b[0m\u001b[0;34m\u001b[0m\u001b[0;34m\u001b[0m\u001b[0m\n\u001b[0m\u001b[1;32m    102\u001b[0m \u001b[0;34m\u001b[0m\u001b[0m\n\u001b[1;32m    103\u001b[0m     \u001b[0;32mdef\u001b[0m \u001b[0mrun_all\u001b[0m\u001b[0;34m(\u001b[0m\u001b[0mself\u001b[0m\u001b[0;34m,\u001b[0m \u001b[0mdelay_seconds\u001b[0m\u001b[0;34m:\u001b[0m \u001b[0mint\u001b[0m \u001b[0;34m=\u001b[0m \u001b[0;36m0\u001b[0m\u001b[0;34m)\u001b[0m \u001b[0;34m->\u001b[0m \u001b[0;32mNone\u001b[0m\u001b[0;34m:\u001b[0m\u001b[0;34m\u001b[0m\u001b[0;34m\u001b[0m\u001b[0m\n",
            "\u001b[0;32m/usr/local/lib/python3.11/dist-packages/schedule/__init__.py\u001b[0m in \u001b[0;36m_run_job\u001b[0;34m(self, job)\u001b[0m\n\u001b[1;32m    171\u001b[0m \u001b[0;34m\u001b[0m\u001b[0m\n\u001b[1;32m    172\u001b[0m     \u001b[0;32mdef\u001b[0m \u001b[0m_run_job\u001b[0m\u001b[0;34m(\u001b[0m\u001b[0mself\u001b[0m\u001b[0;34m,\u001b[0m \u001b[0mjob\u001b[0m\u001b[0;34m:\u001b[0m \u001b[0;34m\"Job\"\u001b[0m\u001b[0;34m)\u001b[0m \u001b[0;34m->\u001b[0m \u001b[0;32mNone\u001b[0m\u001b[0;34m:\u001b[0m\u001b[0;34m\u001b[0m\u001b[0;34m\u001b[0m\u001b[0m\n\u001b[0;32m--> 173\u001b[0;31m         \u001b[0mret\u001b[0m \u001b[0;34m=\u001b[0m \u001b[0mjob\u001b[0m\u001b[0;34m.\u001b[0m\u001b[0mrun\u001b[0m\u001b[0;34m(\u001b[0m\u001b[0;34m)\u001b[0m\u001b[0;34m\u001b[0m\u001b[0;34m\u001b[0m\u001b[0m\n\u001b[0m\u001b[1;32m    174\u001b[0m         \u001b[0;32mif\u001b[0m \u001b[0misinstance\u001b[0m\u001b[0;34m(\u001b[0m\u001b[0mret\u001b[0m\u001b[0;34m,\u001b[0m \u001b[0mCancelJob\u001b[0m\u001b[0;34m)\u001b[0m \u001b[0;32mor\u001b[0m \u001b[0mret\u001b[0m \u001b[0;32mis\u001b[0m \u001b[0mCancelJob\u001b[0m\u001b[0;34m:\u001b[0m\u001b[0;34m\u001b[0m\u001b[0;34m\u001b[0m\u001b[0m\n\u001b[1;32m    175\u001b[0m             \u001b[0mself\u001b[0m\u001b[0;34m.\u001b[0m\u001b[0mcancel_job\u001b[0m\u001b[0;34m(\u001b[0m\u001b[0mjob\u001b[0m\u001b[0;34m)\u001b[0m\u001b[0;34m\u001b[0m\u001b[0;34m\u001b[0m\u001b[0m\n",
            "\u001b[0;32m/usr/local/lib/python3.11/dist-packages/schedule/__init__.py\u001b[0m in \u001b[0;36mrun\u001b[0;34m(self)\u001b[0m\n\u001b[1;32m    689\u001b[0m \u001b[0;34m\u001b[0m\u001b[0m\n\u001b[1;32m    690\u001b[0m         \u001b[0mlogger\u001b[0m\u001b[0;34m.\u001b[0m\u001b[0mdebug\u001b[0m\u001b[0;34m(\u001b[0m\u001b[0;34m\"Running job %s\"\u001b[0m\u001b[0;34m,\u001b[0m \u001b[0mself\u001b[0m\u001b[0;34m)\u001b[0m\u001b[0;34m\u001b[0m\u001b[0;34m\u001b[0m\u001b[0m\n\u001b[0;32m--> 691\u001b[0;31m         \u001b[0mret\u001b[0m \u001b[0;34m=\u001b[0m \u001b[0mself\u001b[0m\u001b[0;34m.\u001b[0m\u001b[0mjob_func\u001b[0m\u001b[0;34m(\u001b[0m\u001b[0;34m)\u001b[0m\u001b[0;34m\u001b[0m\u001b[0;34m\u001b[0m\u001b[0m\n\u001b[0m\u001b[1;32m    692\u001b[0m         \u001b[0mself\u001b[0m\u001b[0;34m.\u001b[0m\u001b[0mlast_run\u001b[0m \u001b[0;34m=\u001b[0m \u001b[0mdatetime\u001b[0m\u001b[0;34m.\u001b[0m\u001b[0mdatetime\u001b[0m\u001b[0;34m.\u001b[0m\u001b[0mnow\u001b[0m\u001b[0;34m(\u001b[0m\u001b[0;34m)\u001b[0m\u001b[0;34m\u001b[0m\u001b[0;34m\u001b[0m\u001b[0m\n\u001b[1;32m    693\u001b[0m         \u001b[0mself\u001b[0m\u001b[0;34m.\u001b[0m\u001b[0m_schedule_next_run\u001b[0m\u001b[0;34m(\u001b[0m\u001b[0;34m)\u001b[0m\u001b[0;34m\u001b[0m\u001b[0;34m\u001b[0m\u001b[0m\n",
            "\u001b[0;32m/tmp/ipython-input-1386858309.py\u001b[0m in \u001b[0;36mget_top_gainers_losers\u001b[0;34m()\u001b[0m\n\u001b[1;32m      9\u001b[0m \u001b[0;34m\u001b[0m\u001b[0m\n\u001b[1;32m     10\u001b[0m     \u001b[0;32mtry\u001b[0m\u001b[0;34m:\u001b[0m\u001b[0;34m\u001b[0m\u001b[0;34m\u001b[0m\u001b[0m\n\u001b[0;32m---> 11\u001b[0;31m         \u001b[0mdata\u001b[0m \u001b[0;34m=\u001b[0m \u001b[0myf\u001b[0m\u001b[0;34m.\u001b[0m\u001b[0mdownload\u001b[0m\u001b[0;34m(\u001b[0m\u001b[0mtickers\u001b[0m\u001b[0;34m=\u001b[0m\u001b[0mfo_stocks\u001b[0m\u001b[0;34m,\u001b[0m \u001b[0mperiod\u001b[0m\u001b[0;34m=\u001b[0m\u001b[0;34m'1d'\u001b[0m\u001b[0;34m,\u001b[0m \u001b[0minterval\u001b[0m\u001b[0;34m=\u001b[0m\u001b[0;34m'1m'\u001b[0m\u001b[0;34m,\u001b[0m \u001b[0mgroup_by\u001b[0m\u001b[0;34m=\u001b[0m\u001b[0;34m'ticker'\u001b[0m\u001b[0;34m,\u001b[0m \u001b[0mthreads\u001b[0m\u001b[0;34m=\u001b[0m\u001b[0;32mTrue\u001b[0m\u001b[0;34m)\u001b[0m\u001b[0;34m\u001b[0m\u001b[0;34m\u001b[0m\u001b[0m\n\u001b[0m\u001b[1;32m     12\u001b[0m \u001b[0;34m\u001b[0m\u001b[0m\n\u001b[1;32m     13\u001b[0m         \u001b[0mresult\u001b[0m \u001b[0;34m=\u001b[0m \u001b[0;34m[\u001b[0m\u001b[0;34m]\u001b[0m\u001b[0;34m\u001b[0m\u001b[0;34m\u001b[0m\u001b[0m\n",
            "\u001b[0;32m/usr/local/lib/python3.11/dist-packages/yfinance/utils.py\u001b[0m in \u001b[0;36mwrapper\u001b[0;34m(*args, **kwargs)\u001b[0m\n\u001b[1;32m     90\u001b[0m \u001b[0;34m\u001b[0m\u001b[0m\n\u001b[1;32m     91\u001b[0m         \u001b[0;32mwith\u001b[0m \u001b[0mIndentationContext\u001b[0m\u001b[0;34m(\u001b[0m\u001b[0;34m)\u001b[0m\u001b[0;34m:\u001b[0m\u001b[0;34m\u001b[0m\u001b[0;34m\u001b[0m\u001b[0m\n\u001b[0;32m---> 92\u001b[0;31m             \u001b[0mresult\u001b[0m \u001b[0;34m=\u001b[0m \u001b[0mfunc\u001b[0m\u001b[0;34m(\u001b[0m\u001b[0;34m*\u001b[0m\u001b[0margs\u001b[0m\u001b[0;34m,\u001b[0m \u001b[0;34m**\u001b[0m\u001b[0mkwargs\u001b[0m\u001b[0;34m)\u001b[0m\u001b[0;34m\u001b[0m\u001b[0;34m\u001b[0m\u001b[0m\n\u001b[0m\u001b[1;32m     93\u001b[0m \u001b[0;34m\u001b[0m\u001b[0m\n\u001b[1;32m     94\u001b[0m         \u001b[0mlogger\u001b[0m\u001b[0;34m.\u001b[0m\u001b[0mdebug\u001b[0m\u001b[0;34m(\u001b[0m\u001b[0;34mf'Exiting {func.__name__}()'\u001b[0m\u001b[0;34m)\u001b[0m\u001b[0;34m\u001b[0m\u001b[0;34m\u001b[0m\u001b[0m\n",
            "\u001b[0;32m/usr/local/lib/python3.11/dist-packages/yfinance/multi.py\u001b[0m in \u001b[0;36mdownload\u001b[0;34m(tickers, start, end, actions, threads, ignore_tz, group_by, auto_adjust, back_adjust, repair, keepna, progress, period, interval, prepost, proxy, rounding, timeout, session, multi_level_index)\u001b[0m\n\u001b[1;32m    165\u001b[0m                                    rounding=rounding, timeout=timeout)\n\u001b[1;32m    166\u001b[0m         \u001b[0;32mwhile\u001b[0m \u001b[0mlen\u001b[0m\u001b[0;34m(\u001b[0m\u001b[0mshared\u001b[0m\u001b[0;34m.\u001b[0m\u001b[0m_DFS\u001b[0m\u001b[0;34m)\u001b[0m \u001b[0;34m<\u001b[0m \u001b[0mlen\u001b[0m\u001b[0;34m(\u001b[0m\u001b[0mtickers\u001b[0m\u001b[0;34m)\u001b[0m\u001b[0;34m:\u001b[0m\u001b[0;34m\u001b[0m\u001b[0;34m\u001b[0m\u001b[0m\n\u001b[0;32m--> 167\u001b[0;31m             \u001b[0m_time\u001b[0m\u001b[0;34m.\u001b[0m\u001b[0msleep\u001b[0m\u001b[0;34m(\u001b[0m\u001b[0;36m0.01\u001b[0m\u001b[0;34m)\u001b[0m\u001b[0;34m\u001b[0m\u001b[0;34m\u001b[0m\u001b[0m\n\u001b[0m\u001b[1;32m    168\u001b[0m     \u001b[0;31m# download synchronously\u001b[0m\u001b[0;34m\u001b[0m\u001b[0;34m\u001b[0m\u001b[0m\n\u001b[1;32m    169\u001b[0m     \u001b[0;32melse\u001b[0m\u001b[0;34m:\u001b[0m\u001b[0;34m\u001b[0m\u001b[0;34m\u001b[0m\u001b[0m\n",
            "\u001b[0;31mKeyboardInterrupt\u001b[0m: "
          ]
        }
      ]
    },
    {
      "cell_type": "code",
      "metadata": {
        "colab": {
          "base_uri": "https://localhost:8080/"
        },
        "id": "f37076a5",
        "outputId": "4a980f78-c473-4f15-d272-2c0677ca5b23"
      },
      "source": [
        "%pip install schedule"
      ],
      "execution_count": null,
      "outputs": [
        {
          "output_type": "stream",
          "name": "stdout",
          "text": [
            "Collecting schedule\n",
            "  Downloading schedule-1.2.2-py3-none-any.whl.metadata (3.8 kB)\n",
            "Downloading schedule-1.2.2-py3-none-any.whl (12 kB)\n",
            "Installing collected packages: schedule\n",
            "Successfully installed schedule-1.2.2\n"
          ]
        }
      ]
    }
  ]
}